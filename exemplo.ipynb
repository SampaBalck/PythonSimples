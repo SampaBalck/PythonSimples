{
 "cells": [
  {
   "cell_type": "markdown",
   "id": "84793028",
   "metadata": {},
   "source": [
    "Aprendenfo Python"
   ]
  },
  {
   "cell_type": "code",
   "execution_count": null,
   "id": "fc8952b3",
   "metadata": {
    "vscode": {
     "languageId": "plaintext"
    }
   },
   "outputs": [],
   "source": [
    "print(\"Hello World\")\n",
    "idade = 25\n",
    "print(idade) "
   ]
  }
 ],
 "metadata": {
  "language_info": {
   "name": "python"
  }
 },
 "nbformat": 4,
 "nbformat_minor": 5
}
